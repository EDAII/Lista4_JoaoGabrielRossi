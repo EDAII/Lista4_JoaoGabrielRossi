{
 "cells": [
  {
   "cell_type": "markdown",
   "metadata": {},
   "source": [
    "# Heap Sort e Radix Sort"
   ]
  },
  {
   "cell_type": "code",
   "execution_count": 72,
   "metadata": {},
   "outputs": [],
   "source": [
    "import numpy as np\n",
    "import pandas as pd"
   ]
  },
  {
   "cell_type": "markdown",
   "metadata": {},
   "source": [
    "### Using O(n) sorting algorithms to test the best datatype/distribution for each of them"
   ]
  },
  {
   "cell_type": "code",
   "execution_count": 73,
   "metadata": {},
   "outputs": [],
   "source": [
    "import time\n",
    "\n",
    "def print_l(l, time, column_name, name):\n",
    "    if name == 'heap':\n",
    "        print(\"Algorithm Heap Sort has taken {} seconds to finish in {} column\".format(time, column_name))\n",
    "    elif name == 'radix':\n",
    "        print(\"Algorithm Radix Sort has taken {} seconds to finish in {} column\".format(time, column_name))\n",
    "        \n",
    "def test_algorithms(l, name):\n",
    "    if name == 'heap':\n",
    "        for n, items in l.items():\n",
    "            s = time.time()\n",
    "            heap_sort(items)\n",
    "            e = time.time()\n",
    "            print_l(items, e - s, n, name)\n",
    "            \n",
    "    elif name == 'radix':\n",
    "        for n, items in l.items():\n",
    "            s = time.time()\n",
    "            radix(items)\n",
    "            e = time.time()\n",
    "            print_l(items, e - s, n, name)"
   ]
  },
  {
   "cell_type": "markdown",
   "metadata": {},
   "source": [
    "**Heap Sort com heapify**"
   ]
  },
  {
   "cell_type": "code",
   "execution_count": 74,
   "metadata": {},
   "outputs": [],
   "source": [
    "def heapify(l, size : int, parent_position : int):\n",
    "    largest = parent_position\n",
    "    left_child = parent_position * 2 + 1\n",
    "    right_child = parent_position * 2 + 2\n",
    "    \n",
    "    if left_child < size and l[left_child] > l[largest]:\n",
    "        largest = left_child\n",
    "    \n",
    "    if right_child < size and l[right_child] > l[largest]:\n",
    "        largest = right_child\n",
    "        \n",
    "    if largest != parent_position:\n",
    "        l[parent_position], l[largest] = l[largest], l[parent_position]\n",
    "        heapify(l, size, largest)\n",
    "        \n",
    "def heap_sort(l):\n",
    "    size = len(l)\n",
    "    for i in range(size , -1, -1):\n",
    "        heapify(l, size, i)\n",
    "        \n",
    "    for i in range(size - 1, 0, -1):\n",
    "        l[i], l[0] = l[0], l[i]\n",
    "        heapify(l, i, 0)"
   ]
  },
  {
   "cell_type": "markdown",
   "metadata": {},
   "source": [
    "**Radix LSD**"
   ]
  },
  {
   "cell_type": "code",
   "execution_count": null,
   "metadata": {},
   "outputs": [],
   "source": []
  },
  {
   "cell_type": "markdown",
   "metadata": {},
   "source": [
    "### After writing both algorithms, we test each one to measure time"
   ]
  },
  {
   "cell_type": "code",
   "execution_count": 75,
   "metadata": {
    "scrolled": false
   },
   "outputs": [],
   "source": [
    "dataset = pd.read_csv('master.csv')\n",
    "df = pd.DataFrame(dataset)\n",
    "df2 = pd.DataFrame(dataset)"
   ]
  },
  {
   "cell_type": "code",
   "execution_count": 76,
   "metadata": {},
   "outputs": [
    {
     "name": "stdout",
     "output_type": "stream",
     "text": [
      "<class 'pandas.core.frame.DataFrame'>\n",
      "RangeIndex: 27820 entries, 0 to 27819\n",
      "Data columns (total 12 columns):\n",
      "country               27820 non-null object\n",
      "year                  27820 non-null int64\n",
      "sex                   27820 non-null object\n",
      "age                   27820 non-null object\n",
      "suicides_no           27820 non-null int64\n",
      "population            27820 non-null int64\n",
      "suicides/100k pop     27820 non-null float64\n",
      "country-year          27820 non-null object\n",
      "HDI for year          8364 non-null float64\n",
      " gdp_for_year ($)     27820 non-null object\n",
      "gdp_per_capita ($)    27820 non-null int64\n",
      "generation            27820 non-null object\n",
      "dtypes: float64(2), int64(4), object(6)\n",
      "memory usage: 2.5+ MB\n"
     ]
    }
   ],
   "source": [
    "df.info()"
   ]
  },
  {
   "cell_type": "code",
   "execution_count": 77,
   "metadata": {},
   "outputs": [
    {
     "name": "stdout",
     "output_type": "stream",
     "text": [
      "Algorithm Heap Sort has taken 0.2203831672668457 seconds to finish in generation column\n",
      "Algorithm Heap Sort has taken 0.3949437141418457 seconds to finish in year column\n",
      "Algorithm Heap Sort has taken 0.34431886672973633 seconds to finish in suicides_no column\n",
      "Algorithm Heap Sort has taken 0.3507273197174072 seconds to finish in suicides/100k pop column\n"
     ]
    }
   ],
   "source": [
    "# testing time for heap sort\n",
    "l1 = np.array(df['generation'])\n",
    "l2 = np.array(df['year'])\n",
    "l3 = np.array(df['suicides_no'])\n",
    "l4 = np.array(df['suicides/100k pop'])\n",
    "\n",
    "d = {'generation' : l1, 'year' : l2, 'suicides_no' : l3, 'suicides/100k pop' : l4}\n",
    "\n",
    "test_algorithms(d, name='heap')"
   ]
  },
  {
   "cell_type": "code",
   "execution_count": 78,
   "metadata": {},
   "outputs": [],
   "source": [
    "# # testing time for radix lsd sort\n",
    "# l1_2 = np.array(df2['generation'])\n",
    "# l2_2 = np.array(df2['year'])\n",
    "# l3_2 = np.array(df2['suicides_no'])\n",
    "# l4_2 = np.array(df2['suicides/100k pop'])\n",
    "\n",
    "# d2 = {'year' : l2_2, 'suicides_no' : l3_2, 'suicides/100k pop' : l4_2}\n",
    "\n",
    "# test_algorithms(d2, name='radix')"
   ]
  },
  {
   "cell_type": "code",
   "execution_count": 79,
   "metadata": {},
   "outputs": [
    {
     "name": "stdout",
     "output_type": "stream",
     "text": [
      "6\n"
     ]
    },
    {
     "data": {
      "text/plain": [
       "<matplotlib.axes._subplots.AxesSubplot at 0x27a0feb3b00>"
      ]
     },
     "execution_count": 79,
     "metadata": {},
     "output_type": "execute_result"
    },
    {
     "data": {
      "image/png": "[encoded data removed]",
      "text/plain": [
       "<Figure size 432x288 with 1 Axes>"
      ]
     },
     "metadata": {
      "needs_background": "light"
     },
     "output_type": "display_data"
    }
   ],
   "source": [
    "plt = df['generation'].value_counts()\n",
    "print(len(plt))\n",
    "plt.plot(kind='bar')\n"
   ]
  },
  {
   "cell_type": "code",
   "execution_count": 80,
   "metadata": {},
   "outputs": [
    {
     "name": "stdout",
     "output_type": "stream",
     "text": [
      "32\n"
     ]
    },
    {
     "data": {
      "text/plain": [
       "<matplotlib.axes._subplots.AxesSubplot at 0x27a0fb15358>"
      ]
     },
     "execution_count": 80,
     "metadata": {},
     "output_type": "execute_result"
    },
    {
     "data": {
      "image/png": "[encoded data removed]",
      "text/plain": [
       "<Figure size 432x288 with 1 Axes>"
      ]
     },
     "metadata": {
      "needs_background": "light"
     },
     "output_type": "display_data"
    }
   ],
   "source": [
    "plt = df['year'].value_counts()\n",
    "print(len(plt))\n",
    "plt.plot(kind='bar')"
   ]
  },
  {
   "cell_type": "code",
   "execution_count": 81,
   "metadata": {},
   "outputs": [
    {
     "data": {
      "text/plain": [
       "5298"
      ]
     },
     "execution_count": 81,
     "metadata": {},
     "output_type": "execute_result"
    }
   ],
   "source": [
    "count = df['suicides/100k pop'].value_counts()\n",
    "len(count)"
   ]
  },
  {
   "cell_type": "code",
   "execution_count": 71,
   "metadata": {},
   "outputs": [
    {
     "data": {
      "text/plain": [
       "2084"
      ]
     },
     "execution_count": 71,
     "metadata": {},
     "output_type": "execute_result"
    }
   ],
   "source": [
    "count = df['suicides_no'].value_counts()\n",
    "len(count)"
   ]
  },
  {
   "cell_type": "code",
   "execution_count": null,
   "metadata": {},
   "outputs": [],
   "source": []
  }
 ],
 "metadata": {
  "kernelspec": {
   "display_name": "Python 3",
   "language": "python",
   "name": "python3"
  },
  "language_info": {
   "codemirror_mode": {
    "name": "ipython",
    "version": 3
   },
   "file_extension": ".py",
   "mimetype": "text/x-python",
   "name": "python",
   "nbconvert_exporter": "python",
   "pygments_lexer": "ipython3",
   "version": "3.6.8"
  }
 },
 "nbformat": 4,
 "nbformat_minor": 2
}
